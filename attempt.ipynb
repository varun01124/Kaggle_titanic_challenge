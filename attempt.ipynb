{
 "cells": [
  {
   "cell_type": "markdown",
   "metadata": {},
   "source": [
    "I begin by reading in and reworking the data. \n",
    "First letter of Cabin is indicative of the room in which the individual was staying.\n",
    "Cleaning up the Name, titles like Mr., Miss., Mrs., etc are found.\n",
    "For Fare and Age, I'm using buckets whose size is manually set so as to keep the buckets of a similar size. This prevents outliers from affecting the data too much in these columns. \n",
    "Also Fare and even Age are discreet quantities from the dataset, so interpreting them as continuous numbers doesn't add much.\n",
    "Cleaning up the Ticket gives us an indication of the ticket class.\n",
    "I delete Name, PassengerId, Ticket.\n",
    "\n",
    "I apply these steps on train and test data, then I combined these in one frame and extend the categorical columns into One hot encoding format by using the pd.dummies utility function.\n",
    "\n",
    "Then I split the data back into original train/test set and save the target variable. Then I tried two approaches - One where I delete the Age and Fare columns. The idea is that the bucketing contains all the information from these columns.\n",
    "\n",
    "In the other approach I preserve these columns and use an imputer to infer the missing age values. \n",
    "(Both these approaches yield similar accuracy on a validation split)\n",
    "\n",
    "I then scale and zero center the data using the minmaxscaler from scikitlearn.\n",
    "\n",
    "I first tried a random forest classifier with default parameters. This yielded a kaggle score of 0.746.\n",
    "Then I manually tweaked the parameters to avoid overfitting by increasing n_parameters, decreasing max_features, decreasing max_depth, so on. This yielded me a slightly better kaggle score of .751.\n",
    "\n",
    "I then decided to use 10 fold cross validation over the parameters of the random forest classifier. First, with a smaller set of parameters. This yielded a score of .779. \n",
    "Then I tried the cross validation over a larger set of parameters which further increased the score to 0.789. This took a lot of time to train on my laptop.\n",
    "\n",
    "At this point I hit a wall, where I tried some ideas by looking at the on my local validation split(30% of original train set):\n",
    " - filtering out unimportant features using feature_importances from an overfitted random forest classifier and then training another rf classifier by crossvalidation. This didnt have a good accuracy.\n",
    " - I tried getting a high accuracy on the validation set by using a lot of different classifiers linear, svc, neural net, other decision trees, etc.\n",
    " \n",
    "At this point I decided to combine(ensemble) a few of the classifiers (ada boosting,logistic regression,random forest, extra trees,etc) which had a decent accuracy. I did this with the VotingClassifier using a 'soft' vote. This showed decent accuracy on the validation set. This got a kaggle score of 0.779. \n",
    "Since this gave more options which could be modified as compared to the crossvalidated random forest, I decided to do a cross validation over a big parameter grid for all the individual classifiers (552960 total fits). This is still running and I think it will have a higher score than the previous best.\n",
    "\n",
    "My kaggle profile - https://www.kaggle.com/varun01124"
   ]
  },
  {
   "cell_type": "code",
   "execution_count": 48,
   "metadata": {
    "collapsed": false
   },
   "outputs": [
    {
     "name": "stdout",
     "output_type": "stream",
     "text": [
      "Populating the interactive namespace from numpy and matplotlib\n"
     ]
    }
   ],
   "source": [
    "import numpy as np\n",
    "import pandas as pd\n",
    "import sklearn\n",
    "from collections import Counter\n",
    "from time import time\n",
    "from scipy.stats import randint as sp_randint\n",
    "from sklearn.model_selection import GridSearchCV,cross_val_score\n",
    "from sklearn.model_selection import RandomizedSearchCV\n",
    "from sklearn.ensemble import RandomForestClassifier,ExtraTreesClassifier,GradientBoostingClassifier\n",
    "from sklearn.linear_model import LogisticRegression\n",
    "from sklearn.neural_network import MLPClassifier\n",
    "from sklearn.metrics import f1_score,make_scorer\n",
    "from sklearn.ensemble import VotingClassifier\n",
    "%matplotlib inline\n",
    "%pylab inline\n",
    "pylab.rcParams['figure.figsize'] = (20, 12)\n",
    "\n",
    "test_file = 'data/test.csv'\n",
    "train_file = 'data/train.csv'\n",
    "X = pd.read_csv(train_file)\n",
    "T = pd.read_csv(test_file)"
   ]
  },
  {
   "cell_type": "code",
   "execution_count": 32,
   "metadata": {
    "collapsed": false
   },
   "outputs": [
    {
     "name": "stdout",
     "output_type": "stream",
     "text": [
      "(891, 12)\n",
      "(418, 11)\n"
     ]
    }
   ],
   "source": [
    "print X.shape\n",
    "print T.shape"
   ]
  },
  {
   "cell_type": "code",
   "execution_count": 33,
   "metadata": {
    "collapsed": false
   },
   "outputs": [],
   "source": [
    "def cabin_cat(cab):\n",
    "    if not pd.isnull(cab):\n",
    "        return cab[0]\n",
    "    else:\n",
    "        return 'none'\n",
    "\n",
    "def name_title(nm):\n",
    "    wrds = nm.split(' ')\n",
    "    tt = ''\n",
    "    for ec in wrds:\n",
    "        if ec[-1] == '.':\n",
    "            return ec\n",
    "\n",
    "\n",
    "def ticket_class(t):\n",
    "    try:\n",
    "        k = int(t)\n",
    "        return 'non'\n",
    "    except:\n",
    "        k = t.split(' ')[0]\n",
    "        return k.split('/')[0]\n",
    "\n",
    "def real_from_estimate(age):\n",
    "    if not pd.isnull(age):\n",
    "        frac = float(age) - int(age)\n",
    "        if int(age) > 0 and frac == 0.5:\n",
    "            return float(int(age))\n",
    "        else:\n",
    "            return float(age)\n",
    "    else:\n",
    "        return age\n",
    "\n",
    "def age_buckets(age):\n",
    "    if not pd.isnull(age):\n",
    "        if age<=5:\n",
    "            return 1\n",
    "        if 5<age<=10:\n",
    "            return 2\n",
    "        if 10<age<=15:\n",
    "            return 3\n",
    "        if 15<age<=17:\n",
    "            return 4\n",
    "        if 17<age<=19:\n",
    "            return 5\n",
    "        if 19<age<=21:\n",
    "            return 6\n",
    "        if 21<age<=23:\n",
    "            return 7\n",
    "        if 23<age<=25:\n",
    "            return 8\n",
    "        if 25<age<=27:\n",
    "            return 9\n",
    "        if 27<age<=29:\n",
    "            return 10\n",
    "        if 29<age<=31:\n",
    "            return 11\n",
    "        if 31<age<=33:\n",
    "            return 12\n",
    "        if 33<age<=35:\n",
    "            return 13\n",
    "        if 35<age<=37:\n",
    "            return 14\n",
    "        if 37<age<=42:\n",
    "            return 15\n",
    "        if 42<age<=47:\n",
    "            return 16\n",
    "        if 47<age<=52:\n",
    "            return 17\n",
    "        if 52<age<=60:\n",
    "            return 18\n",
    "        if 60<age:\n",
    "            return 19\n",
    "    else:\n",
    "        return 0\n",
    "\n",
    "def fare_buckets(f):\n",
    "    if not pd.isnull(f):\n",
    "        if f==0:\n",
    "            return 0\n",
    "        if 0<f<=7:\n",
    "            return 1\n",
    "        if 7<f<=7.23:\n",
    "            return 2\n",
    "        if 7.23<f<=7.742:\n",
    "            return 3\n",
    "        if 7.742<f<=7.888:\n",
    "            return 4\n",
    "        if 7.888<f<=8.03:\n",
    "            return 5\n",
    "        if 8.03<f<=10.463:\n",
    "            return 6\n",
    "        if 10.463<f<=18:\n",
    "            return 7\n",
    "        if 18<f<=25.93:\n",
    "            return 8        \n",
    "        if 25.93<f<=50:\n",
    "            return 9\n",
    "        if 50<f:\n",
    "            return 10\n",
    "    else:\n",
    "        return 11\n",
    "        \n",
    "def features_modification(df):\n",
    "    df['Cabin'] = df.Cabin.apply(cabin_cat)\n",
    "    df['Title'] = df.Name.apply(name_title)\n",
    "    df['Tclass'] = df.Ticket.apply(ticket_class)\n",
    "    df['Age'] = df.Age.apply(real_from_estimate)\n",
    "    df['Agebucket'] = df.Age.apply(age_buckets)\n",
    "    df['Farebucket'] = df.Fare.apply(fare_buckets)\n",
    "\n",
    "test_passengerids = T.PassengerId    \n",
    "features_modification(X)\n",
    "features_modification(T)"
   ]
  },
  {
   "cell_type": "code",
   "execution_count": 34,
   "metadata": {
    "collapsed": false
   },
   "outputs": [
    {
     "data": {
      "text/plain": [
       "array([[<matplotlib.axes._subplots.AxesSubplot object at 0x10b39f250>]], dtype=object)"
      ]
     },
     "execution_count": 34,
     "metadata": {},
     "output_type": "execute_result"
    },
    {
     "data": {
      "image/png": "[encoded data removed]",
      "text/plain": [
       "<matplotlib.figure.Figure at 0x10b332a10>"
      ]
     },
     "metadata": {},
     "output_type": "display_data"
    }
   ],
   "source": [
    "X.hist(column='Age',bins=78)"
   ]
  },
  {
   "cell_type": "code",
   "execution_count": 35,
   "metadata": {
    "collapsed": false
   },
   "outputs": [
    {
     "name": "stdout",
     "output_type": "stream",
     "text": [
      "Counter({9: 166, 7: 163, 10: 160, 6: 97, 4: 79, 8: 63, 5: 57, 2: 42, 3: 36, 0: 15, 1: 13})\n",
      "Counter({0: 177, 15: 59, 8: 54, 5: 51, 10: 47, 1: 44, 11: 44, 7: 43, 6: 40, 16: 40, 17: 38, 9: 36, 12: 35, 13: 34, 4: 30, 14: 29, 18: 29, 19: 22, 2: 20, 3: 19})\n"
     ]
    }
   ],
   "source": [
    "print Counter(X.Farebucket)\n",
    "print Counter(X.Agebucket)"
   ]
  },
  {
   "cell_type": "markdown",
   "metadata": {},
   "source": [
    "Next we see a correlation between survival and farebuckets and agebuckets."
   ]
  },
  {
   "cell_type": "code",
   "execution_count": 36,
   "metadata": {
    "collapsed": false
   },
   "outputs": [],
   "source": [
    "grpd = X.groupby('Survived')"
   ]
  },
  {
   "cell_type": "code",
   "execution_count": 37,
   "metadata": {
    "collapsed": false
   },
   "outputs": [
    {
     "data": {
      "text/plain": [
       "Survived\n",
       "0    Axes(0.125,0.125;0.775x0.775)\n",
       "1    Axes(0.125,0.125;0.775x0.775)\n",
       "Name: Farebucket, dtype: object"
      ]
     },
     "execution_count": 37,
     "metadata": {},
     "output_type": "execute_result"
    },
    {
     "data": {
      "image/png": "[encoded data removed]",
      "text/plain": [
       "<matplotlib.figure.Figure at 0x10b1ddd90>"
      ]
     },
     "metadata": {},
     "output_type": "display_data"
    }
   ],
   "source": [
    "#not a stacked chart, just both cases being overlapped but the pattern can be seen, expensive \n",
    "#ticket increases chance of survival\n",
    "grpd.Farebucket.hist(bins=20)"
   ]
  },
  {
   "cell_type": "code",
   "execution_count": 38,
   "metadata": {
    "collapsed": false
   },
   "outputs": [
    {
     "data": {
      "text/plain": [
       "Survived\n",
       "0    Axes(0.125,0.125;0.775x0.775)\n",
       "1    Axes(0.125,0.125;0.775x0.775)\n",
       "Name: Agebucket, dtype: object"
      ]
     },
     "execution_count": 38,
     "metadata": {},
     "output_type": "execute_result"
    },
    {
     "data": {
      "image/png": "[encoded data removed]",
      "text/plain": [
       "<matplotlib.figure.Figure at 0x10c164610>"
      ]
     },
     "metadata": {},
     "output_type": "display_data"
    }
   ],
   "source": [
    "#not a stacked chart, just both cases being overlapped\n",
    "grpd.Agebucket.hist(bins=20)"
   ]
  },
  {
   "cell_type": "code",
   "execution_count": 91,
   "metadata": {
    "collapsed": false
   },
   "outputs": [
    {
     "data": {
      "text/plain": [
       "Survived  Tclass\n",
       "0         non       407\n",
       "          A          22\n",
       "          PC         21\n",
       "          C.A.       15\n",
       "          SOTON      15\n",
       "          STON       10\n",
       "          W.          8\n",
       "          CA.         7\n",
       "          CA          6\n",
       "          SC          6\n",
       "          S.O.C.      5\n",
       "          C           3\n",
       "          LINE        3\n",
       "          S.O.        3\n",
       "          A.          2\n",
       "          A.5.        2\n",
       "          S.C.        2\n",
       "          A4.         1\n",
       "          F.C.        1\n",
       "          F.C.C.      1\n",
       "          Fa          1\n",
       "          P           1\n",
       "          PP          1\n",
       "          S.O.P.      1\n",
       "          S.P.        1\n",
       "          SCO         1\n",
       "          W           1\n",
       "          W.E.P.      1\n",
       "          WE          1\n",
       "1         non       254\n",
       "          PC         39\n",
       "          C.A.       13\n",
       "          STON        8\n",
       "          SC          7\n",
       "          F.C.C.      4\n",
       "          A           2\n",
       "          C           2\n",
       "          PP          2\n",
       "          SOTON       2\n",
       "          CA.         1\n",
       "          LINE        1\n",
       "          P           1\n",
       "          S.C.        1\n",
       "          S.W.        1\n",
       "          SO          1\n",
       "          SW          1\n",
       "          W.          1\n",
       "          WE          1\n",
       "Name: Tclass, dtype: int64"
      ]
     },
     "execution_count": 91,
     "metadata": {},
     "output_type": "execute_result"
    }
   ],
   "source": [
    "grpd.Tclass.value_counts()"
   ]
  },
  {
   "cell_type": "code",
   "execution_count": 39,
   "metadata": {
    "collapsed": false
   },
   "outputs": [
    {
     "name": "stdout",
     "output_type": "stream",
     "text": [
      "Index([u'PassengerId', u'Survived', u'Pclass', u'Name', u'Sex', u'Age',\n",
      "       u'SibSp', u'Parch', u'Ticket', u'Fare', u'Cabin', u'Embarked', u'Title',\n",
      "       u'Tclass', u'Agebucket', u'Farebucket'],\n",
      "      dtype='object')\n",
      "Index([u'PassengerId', u'Pclass', u'Name', u'Sex', u'Age', u'SibSp', u'Parch',\n",
      "       u'Ticket', u'Fare', u'Cabin', u'Embarked', u'Title', u'Tclass',\n",
      "       u'Agebucket', u'Farebucket'],\n",
      "      dtype='object')\n",
      "Index([u'Pclass', u'Sex', u'Age', u'SibSp', u'Parch', u'Fare', u'Cabin',\n",
      "       u'Embarked', u'Title', u'Tclass', u'Agebucket', u'Farebucket'],\n",
      "      dtype='object')\n",
      "Index([u'Pclass', u'Sex', u'Age', u'SibSp', u'Parch', u'Fare', u'Cabin',\n",
      "       u'Embarked', u'Title', u'Tclass', u'Agebucket', u'Farebucket'],\n",
      "      dtype='object')\n",
      "12\n",
      "12\n"
     ]
    }
   ],
   "source": [
    "print X.columns\n",
    "print T.columns\n",
    "\n",
    "\n",
    "# X.to_csv('./data/train_processed.csv',index=False)\n",
    "\n",
    "T['PassengerId'] = test_passengerids\n",
    "# T.to_csv('./data/test_processed.csv',index=False)\n",
    "T.drop(['PassengerId','Name','Ticket'],inplace=True,axis=1)\n",
    "y = X.Survived\n",
    "X.drop(['Survived','PassengerId','Name','Ticket'],inplace=True,axis=1)\n",
    "print X.columns\n",
    "print T.columns\n",
    "print len(X.columns)\n",
    "print len(T.columns)"
   ]
  },
  {
   "cell_type": "code",
   "execution_count": 40,
   "metadata": {
    "collapsed": false
   },
   "outputs": [],
   "source": [
    "combined = X.append(T)\n",
    "combined.reset_index(inplace=True)\n",
    "\n",
    "# this was an idea to impute the missing ages by getting median of ages grouped by sex,pclass and title\n",
    "# combined[\"Age\"] = combined.groupby(['Sex','Pclass','Title'])['Age'].transform(lambda x: x.fillna(x.median())) - \n",
    "\n",
    "combined.drop('index',inplace=True,axis=1)"
   ]
  },
  {
   "cell_type": "code",
   "execution_count": 41,
   "metadata": {
    "collapsed": false
   },
   "outputs": [],
   "source": [
    "combined['Age'] = combined.Age.apply(real_from_estimate)"
   ]
  },
  {
   "cell_type": "code",
   "execution_count": 42,
   "metadata": {
    "collapsed": true
   },
   "outputs": [],
   "source": [
    "combined = pd.get_dummies(combined,columns = [u'Pclass', u'Sex', u'SibSp', u'Parch', u'Cabin',\n",
    "       u'Embarked', u'Title', u'Tclass'])"
   ]
  },
  {
   "cell_type": "code",
   "execution_count": 43,
   "metadata": {
    "collapsed": false
   },
   "outputs": [
    {
     "data": {
      "text/plain": [
       "(1309, 88)"
      ]
     },
     "execution_count": 43,
     "metadata": {},
     "output_type": "execute_result"
    }
   ],
   "source": [
    "combined.shape"
   ]
  },
  {
   "cell_type": "code",
   "execution_count": 44,
   "metadata": {
    "collapsed": false
   },
   "outputs": [
    {
     "name": "stdout",
     "output_type": "stream",
     "text": [
      "Index([            u'Age',            u'Fare',       u'Agebucket',\n",
      "            u'Farebucket',        u'Pclass_1',        u'Pclass_2',\n",
      "              u'Pclass_3',      u'Sex_female',        u'Sex_male',\n",
      "               u'SibSp_0',         u'SibSp_1',         u'SibSp_2',\n",
      "               u'SibSp_3',         u'SibSp_4',         u'SibSp_5',\n",
      "               u'SibSp_8',         u'Parch_0',         u'Parch_1',\n",
      "               u'Parch_2',         u'Parch_3',         u'Parch_4',\n",
      "               u'Parch_5',         u'Parch_6',         u'Parch_9',\n",
      "               u'Cabin_A',         u'Cabin_B',         u'Cabin_C',\n",
      "               u'Cabin_D',         u'Cabin_E',         u'Cabin_F',\n",
      "               u'Cabin_G',         u'Cabin_T',      u'Cabin_none',\n",
      "            u'Embarked_C',      u'Embarked_Q',      u'Embarked_S',\n",
      "           u'Title_Capt.',      u'Title_Col.', u'Title_Countess.',\n",
      "            u'Title_Don.',     u'Title_Dona.',       u'Title_Dr.',\n",
      "       u'Title_Jonkheer.',     u'Title_Lady.',    u'Title_Major.',\n",
      "         u'Title_Master.',     u'Title_Miss.',     u'Title_Mlle.',\n",
      "            u'Title_Mme.',       u'Title_Mr.',      u'Title_Mrs.',\n",
      "             u'Title_Ms.',      u'Title_Rev.',      u'Title_Sir.',\n",
      "              u'Tclass_A',       u'Tclass_A.',     u'Tclass_A.5.',\n",
      "            u'Tclass_A4.',       u'Tclass_AQ',        u'Tclass_C',\n",
      "           u'Tclass_C.A.',       u'Tclass_CA',      u'Tclass_CA.',\n",
      "           u'Tclass_F.C.',   u'Tclass_F.C.C.',       u'Tclass_Fa',\n",
      "           u'Tclass_LINE',       u'Tclass_LP',        u'Tclass_P',\n",
      "             u'Tclass_PC',       u'Tclass_PP',     u'Tclass_S.C.',\n",
      "           u'Tclass_S.O.',   u'Tclass_S.O.C.',   u'Tclass_S.O.P.',\n",
      "           u'Tclass_S.P.',     u'Tclass_S.W.',       u'Tclass_SC',\n",
      "            u'Tclass_SCO',       u'Tclass_SO',    u'Tclass_SOTON',\n",
      "           u'Tclass_STON',       u'Tclass_SW',        u'Tclass_W',\n",
      "             u'Tclass_W.',   u'Tclass_W.E.P.',       u'Tclass_WE',\n",
      "            u'Tclass_non'],\n",
      "      dtype='object')\n",
      "Index([            u'Age',            u'Fare',       u'Agebucket',\n",
      "            u'Farebucket',        u'Pclass_1',        u'Pclass_2',\n",
      "              u'Pclass_3',      u'Sex_female',        u'Sex_male',\n",
      "               u'SibSp_0',         u'SibSp_1',         u'SibSp_2',\n",
      "               u'SibSp_3',         u'SibSp_4',         u'SibSp_5',\n",
      "               u'SibSp_8',         u'Parch_0',         u'Parch_1',\n",
      "               u'Parch_2',         u'Parch_3',         u'Parch_4',\n",
      "               u'Parch_5',         u'Parch_6',         u'Parch_9',\n",
      "               u'Cabin_A',         u'Cabin_B',         u'Cabin_C',\n",
      "               u'Cabin_D',         u'Cabin_E',         u'Cabin_F',\n",
      "               u'Cabin_G',         u'Cabin_T',      u'Cabin_none',\n",
      "            u'Embarked_C',      u'Embarked_Q',      u'Embarked_S',\n",
      "           u'Title_Capt.',      u'Title_Col.', u'Title_Countess.',\n",
      "            u'Title_Don.',     u'Title_Dona.',       u'Title_Dr.',\n",
      "       u'Title_Jonkheer.',     u'Title_Lady.',    u'Title_Major.',\n",
      "         u'Title_Master.',     u'Title_Miss.',     u'Title_Mlle.',\n",
      "            u'Title_Mme.',       u'Title_Mr.',      u'Title_Mrs.',\n",
      "             u'Title_Ms.',      u'Title_Rev.',      u'Title_Sir.',\n",
      "              u'Tclass_A',       u'Tclass_A.',     u'Tclass_A.5.',\n",
      "            u'Tclass_A4.',       u'Tclass_AQ',        u'Tclass_C',\n",
      "           u'Tclass_C.A.',       u'Tclass_CA',      u'Tclass_CA.',\n",
      "           u'Tclass_F.C.',   u'Tclass_F.C.C.',       u'Tclass_Fa',\n",
      "           u'Tclass_LINE',       u'Tclass_LP',        u'Tclass_P',\n",
      "             u'Tclass_PC',       u'Tclass_PP',     u'Tclass_S.C.',\n",
      "           u'Tclass_S.O.',   u'Tclass_S.O.C.',   u'Tclass_S.O.P.',\n",
      "           u'Tclass_S.P.',     u'Tclass_S.W.',       u'Tclass_SC',\n",
      "            u'Tclass_SCO',       u'Tclass_SO',    u'Tclass_SOTON',\n",
      "           u'Tclass_STON',       u'Tclass_SW',        u'Tclass_W',\n",
      "             u'Tclass_W.',   u'Tclass_W.E.P.',       u'Tclass_WE',\n",
      "            u'Tclass_non'],\n",
      "      dtype='object')\n",
      "(891, 88)\n",
      "(418, 88)\n",
      "set([])\n"
     ]
    }
   ],
   "source": [
    "X = combined.loc[0:890,:]\n",
    "T = combined.loc[891:,:]\n",
    "print X.columns\n",
    "print T.columns\n",
    "print X.shape\n",
    "print T.shape\n",
    "# training and test data now have the same columns\n",
    "print set(X.columns) - set(T.columns)\n"
   ]
  },
  {
   "cell_type": "code",
   "execution_count": 45,
   "metadata": {
    "collapsed": false
   },
   "outputs": [],
   "source": [
    "from sklearn import ensemble,preprocessing\n",
    "age_imp = preprocessing.Imputer(strategy='most_frequent')\n",
    "# scaler = preprocessing.StandardScaler()\n",
    "scaler = preprocessing.MinMaxScaler((-1,1))\n",
    "\n",
    "tr_X = np.array(X)\n",
    "tr_y = np.array(y)\n",
    "tst_X = np.array(T)\n",
    "\n",
    "#imputing age values\n",
    "tr_X = age_imp.fit_transform(tr_X)\n",
    "tst_X = age_imp.transform(tst_X)\n",
    "\n",
    "#scaling and zero centering\n",
    "tr_X = scaler.fit_transform(tr_X)\n",
    "tst_X = scaler.transform(tst_X)"
   ]
  },
  {
   "cell_type": "code",
   "execution_count": null,
   "metadata": {
    "collapsed": false
   },
   "outputs": [],
   "source": [
    "rf = ensemble.RandomForestClassifier(n_estimators=100,max_depth=50,class_weight='balanced')\n",
    "rf.fit(tr_X,tr_y)\n",
    "print 'Score ' + str(rf.score(tr_X,tr_y))\n",
    "\n",
    "#feature importances \n",
    "feats = []\n",
    "for idx,ec in enumerate(X.columns):\n",
    "    feats.append((ec,100*rf.feature_importances_[idx],idx))\n",
    "feats.sort(key=lambda x:x[1],reverse=True)\n",
    "#print feats"
   ]
  },
  {
   "cell_type": "code",
   "execution_count": 53,
   "metadata": {
    "collapsed": false
   },
   "outputs": [],
   "source": [
    "def predict_store(tst_X,passengerids,clf,submission_number):\n",
    "    preds = clf.predict(tst_X)\n",
    "    sub = pd.DataFrame()\n",
    "    sub['PassengerId'] = passengerids\n",
    "    sub['Survived'] = preds\n",
    "    sub.to_csv('./submissions/{}.csv'.format(submission_number),index=False)"
   ]
  },
  {
   "cell_type": "code",
   "execution_count": null,
   "metadata": {
    "collapsed": false
   },
   "outputs": [],
   "source": [
    "clf = RandomForestClassifier()\n",
    "X_train, X_test, y_train, y_test = sklearn.cross_validation.train_test_split(tr_X,tr_y,test_size=0.3,random_state=0)\n",
    "\n",
    "#test a classifier against the validation set - not important for this cv but for quickly trying out different \n",
    "#classifiers\n",
    "def test_individual(clf,tr_X,tr_y,tst_X,tst_y):\n",
    "    clf.fit(tr_X,tr_y)\n",
    "    print clf.score(tst_X,tst_y)\n",
    "    \n",
    "# Utility function to report best scores\n",
    "def report(results, n_top=3):\n",
    "    for i in range(1, n_top + 1):\n",
    "        candidates = np.flatnonzero(results['rank_test_score'] == i)\n",
    "        for candidate in candidates:\n",
    "            print(\"Model with rank: {0}\".format(i))\n",
    "            print(\"Mean validation score: {0:.3f} (std: {1:.3f})\".format(\n",
    "                  results['mean_test_score'][candidate],\n",
    "                  results['std_test_score'][candidate]))\n",
    "            print(\"Parameters: {0}\".format(results['params'][candidate]))\n",
    "            print(\"\")\n",
    "\n",
    "#one of the high scoring grids\n",
    "param_grid = {\"max_depth\": [5,7],\n",
    "              \"n_estimators\":[50,100,200],\n",
    "              \"max_features\": [20],\n",
    "              \"min_samples_leaf\": [1,5,10],\n",
    "              \"bootstrap\": [True, False],\n",
    "              \"criterion\": [\"gini\", \"entropy\"]}\n",
    "\n",
    "grid_search = GridSearchCV(clf, param_grid=param_grid,n_jobs=-1,cv=10,verbose=True)\n",
    "start = time()\n",
    "grid_search.fit(tr_X,tr_y)\n",
    "\n",
    "print(\"GridSearchCV took %.2f seconds for %d candidate parameter settings.\"\n",
    "      % (time() - start, len(grid_search.cv_results_['params'])))\n",
    "report(grid_search.cv_results_)"
   ]
  },
  {
   "cell_type": "code",
   "execution_count": 54,
   "metadata": {
    "collapsed": false
   },
   "outputs": [],
   "source": [
    "#predicting with the best grid_search classifier and storing it for submission\n",
    "#predict_store(tst_X,test_passengerids,grid_search,'rf4') "
   ]
  },
  {
   "cell_type": "code",
   "execution_count": 20,
   "metadata": {
    "collapsed": false
   },
   "outputs": [],
   "source": [
    "#Some of the models tried \n",
    "rf = RandomForestClassifier(bootstrap=False, class_weight=None,\n",
    "            criterion='entropy', max_depth=7, max_features=20,\n",
    "            max_leaf_nodes=None, min_impurity_split=1e-07,\n",
    "            min_samples_leaf=5, min_samples_split=2,\n",
    "            min_weight_fraction_leaf=0.0, n_estimators=1000, n_jobs=1,\n",
    "            oob_score=False, random_state=None, verbose=0,\n",
    "            warm_start=False)\n",
    "\n",
    "mlp = MLPClassifier(activation='relu', alpha=0.00001, batch_size='auto', beta_1=0.9,\n",
    "       beta_2=0.999, early_stopping=False, epsilon=1e-08,\n",
    "       hidden_layer_sizes=(5,2), learning_rate='adaptive',\n",
    "       learning_rate_init=0.001, max_iter=20000, momentum=0.9,\n",
    "       nesterovs_momentum=True, power_t=0.5, random_state=None,\n",
    "       shuffle=True, solver='lbfgs', tol=0.0001, validation_fraction=0.1,\n",
    "       verbose=False, warm_start=False)\n",
    "\n",
    "gdb = GradientBoostingClassifier(criterion='friedman_mse', init=None,\n",
    "              learning_rate=0.1, loss='deviance', max_depth=5,\n",
    "              max_features=10, max_leaf_nodes=None,\n",
    "              min_impurity_split=1e-07, min_samples_leaf=9,\n",
    "              min_samples_split=2, min_weight_fraction_leaf=0.0,\n",
    "              n_estimators=1000, presort='auto', random_state=None,\n",
    "              subsample=1.0, verbose=0, warm_start=False)\n",
    "\n",
    "ada = ensemble.AdaBoostClassifier()\n",
    "bgg = ensemble.BaggingClassifier()\n",
    "gaup = sklearn.gaussian_process.GaussianProcessClassifier()\n",
    "svc_1 = sklearn.svm.SVC(probability=True)\n",
    "# svc_2 = sklearn.svm.LinearSVC()\n",
    "# svc_3 = sklearn.svm.NuSVC(probability=True)\n",
    "dt = sklearn.tree.DecisionTreeClassifier()\n",
    "pa = sklearn.linear_model.PassiveAggressiveClassifier()\n",
    "rdg = sklearn.linear_model.RidgeClassifier()\n",
    "sdg = sklearn.linear_model.SGDClassifier(loss='log')\n",
    "lr = sklearn.linear_model.LogisticRegression()\n",
    "et = ExtraTreesClassifier(n_estimators=2000, max_depth=15, min_samples_split=3, random_state=0)\n",
    "gnb = GaussianNB()"
   ]
  },
  {
   "cell_type": "code",
   "execution_count": null,
   "metadata": {
    "collapsed": false
   },
   "outputs": [],
   "source": [
    "from sklearn.ensemble import VotingClassifier\n",
    "from sklearn.cross_validation import train_test_split,StratifiedShuffleSplit,StratifiedKFold\n",
    "\n",
    "X_train, X_test, y_train, y_test = sklearn.cross_validation.train_test_split(tr_X,tr_y,test_size=0.2)\n",
    "# eclf = VotingClassifier(estimators=[('ada',ada),('lr',lr),('rf',rf),('sdg',sdg),('et',et),('mlp',mlp),('gdb',gdb)],\n",
    "#                         weights = [1.5,1.5,2.5,0.13,1.5,1.5,1.5], voting='soft')\n",
    "eclf = VotingClassifier(estimators=[('ada',ada),('lr',lr),('rf',rf),('et',et),('gdb',gdb),('gnb',gnb)],\n",
    "                         weights = [1.5,1.5,2.5,1.5,1.5,1.5], voting='soft')\n",
    "\n",
    "param_grid = {'ada__n_estimators':[10,100],'ada__learning_rate':[.01,.001],\n",
    "              'lr__C':[0.1,1],'lr__class_weight':['balanced'],\n",
    "              'rf__n_estimators':[100,400],'rf__max_features':[5,10,'auto'],'rf__max_depth':[10,5],\n",
    "              'rf__min_samples_split':[5,50],\n",
    "              'et__n_estimators':[100,400],'et__max_features':[5,10,'auto'], 'et__max_depth':[10,5],\n",
    "              'et__min_samples_split':[5,50],\n",
    "              'gdb__loss':['deviance', 'exponential'],'gdb__learning_rate':[0.01, 0.001,0.1],\n",
    "              'gdb__min_samples_split':[5,10]}}\n",
    "grid_search = GridSearchCV(eclf, param_grid=param_grid, verbose=3,scoring='accuracy',\n",
    "cv=StratifiedShuffleSplit(y_train, n_iter=10, test_size=0.2, train_size=None, \n",
    "random_state=0)).fit(X_train, y_train)\n",
    "# [0.5,0.05,0.01,1.0]\n",
    "# (('dt',dt),('gaup',gaup),('gnb',gnb),('bgg',bgg))\n",
    "test_individual(grid_search,X_train,y_train,X_test,y_test)\n",
    "\n",
    "#fitting with whole training data before creating submission\n",
    "grid_search.fit(tr_X,tr_y)\n",
    "\n",
    "#This model is still training"
   ]
  },
  {
   "cell_type": "code",
   "execution_count": 188,
   "metadata": {
    "collapsed": true
   },
   "outputs": [],
   "source": [
    "#predict_store(tst_X,test_passengerids,grid_search,'ensemble_long')"
   ]
  }
 ],
 "metadata": {
  "kernelspec": {
   "display_name": "Python 2",
   "language": "python",
   "name": "python2"
  },
  "language_info": {
   "codemirror_mode": {
    "name": "ipython",
    "version": 2
   },
   "file_extension": ".py",
   "mimetype": "text/x-python",
   "name": "python",
   "nbconvert_exporter": "python",
   "pygments_lexer": "ipython2",
   "version": "2.7.12"
  }
 },
 "nbformat": 4,
 "nbformat_minor": 0
}
